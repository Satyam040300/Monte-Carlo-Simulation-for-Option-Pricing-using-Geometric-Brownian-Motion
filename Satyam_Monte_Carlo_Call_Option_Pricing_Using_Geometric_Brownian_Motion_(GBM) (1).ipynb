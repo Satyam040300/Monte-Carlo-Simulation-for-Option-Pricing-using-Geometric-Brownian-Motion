{
  "nbformat": 4,
  "nbformat_minor": 0,
  "metadata": {
    "colab": {
      "provenance": []
    },
    "kernelspec": {
      "name": "python3",
      "display_name": "Python 3"
    },
    "language_info": {
      "name": "python"
    }
  },
  "cells": [
    {
      "cell_type": "code",
      "execution_count": 2,
      "metadata": {
        "colab": {
          "base_uri": "https://localhost:8080/"
        },
        "id": "ZKOGZayJQpTT",
        "outputId": "e4a0f368-0625-4211-961d-3da6aa5183c2"
      },
      "outputs": [
        {
          "output_type": "stream",
          "name": "stdout",
          "text": [
            "Monte Carlo Call Price: 10.470720697194789\n",
            "Monte Carlo Put Price: 5.552580153909403\n"
          ]
        }
      ],
      "source": [
        "import numpy as np\n",
        "\n",
        "# Monte Carlo Simulation for Call Option Pricing using Geometric Brownian Motion\n",
        "def monte_carlo_call(S0, K, T, r, sigma, num_simulations=100000, num_steps=100):\n",
        "    dt = T / num_steps  # Time step for each simulation\n",
        "    payoffs = []\n",
        "\n",
        "    for _ in range(num_simulations):\n",
        "        S = S0\n",
        "        # Simulate asset price path using GBM for each time step\n",
        "        for _ in range(num_steps):\n",
        "            Z = np.random.normal(0, 1)  # Standard normal random variable\n",
        "            S = S * np.exp((r - 0.5 * sigma**2) * dt + sigma * np.sqrt(dt) * Z)\n",
        "\n",
        "        # Payoff for a call option at the end of the path\n",
        "        payoff = max(S - K, 0)\n",
        "        payoffs.append(payoff)\n",
        "\n",
        "    # Discount the payoff back to the present value and compute the mean\n",
        "    option_price = np.exp(-r * T) * np.mean(payoffs)\n",
        "    return option_price\n",
        "\n",
        "# Monte Carlo Simulation for Put Option Pricing using Geometric Brownian Motion\n",
        "def monte_carlo_put(S0, K, T, r, sigma, num_simulations=100000, num_steps=100):\n",
        "    dt = T / num_steps  # Time step for each simulation\n",
        "    payoffs = []\n",
        "\n",
        "    for _ in range(num_simulations):\n",
        "        S = S0\n",
        "        # Simulate asset price path using GBM for each time step\n",
        "        for _ in range(num_steps):\n",
        "            Z = np.random.normal(0, 1)  # Standard normal random variable\n",
        "            S = S * np.exp((r - 0.5 * sigma**2) * dt + sigma * np.sqrt(dt) * Z)\n",
        "\n",
        "        # Payoff for a put option at the end of the path\n",
        "        payoff = max(K - S, 0)\n",
        "        payoffs.append(payoff)\n",
        "\n",
        "    # Discount the payoff back to the present value and compute the mean\n",
        "    option_price = np.exp(-r * T) * np.mean(payoffs)\n",
        "    return option_price\n",
        "\n",
        "# Example Inputs for Monte Carlo Simulation\n",
        "S0_mc = 100  # Initial stock price\n",
        "K_mc = 100   # Strike price\n",
        "T_mc = 1     # Time to maturity (1 year)\n",
        "r_mc = 0.05  # Risk-free interest rate\n",
        "sigma_mc = 0.2  # Volatility (20%)\n",
        "num_simulations_mc = 100000  # Number of simulations\n",
        "num_steps_mc = 100  # Number of steps per simulation\n",
        "\n",
        "# Call option price using Monte Carlo Simulation\n",
        "mc_call_price = monte_carlo_call(S0_mc, K_mc, T_mc, r_mc, sigma_mc, num_simulations_mc, num_steps_mc)\n",
        "# Put option price using Monte Carlo Simulation\n",
        "mc_put_price = monte_carlo_put(S0_mc, K_mc, T_mc, r_mc, sigma_mc, num_simulations_mc, num_steps_mc)\n",
        "\n",
        "# Output the results\n",
        "print(f\"Monte Carlo Call Price: {mc_call_price}\")\n",
        "print(f\"Monte Carlo Put Price: {mc_put_price}\")\n"
      ]
    }
  ]
}